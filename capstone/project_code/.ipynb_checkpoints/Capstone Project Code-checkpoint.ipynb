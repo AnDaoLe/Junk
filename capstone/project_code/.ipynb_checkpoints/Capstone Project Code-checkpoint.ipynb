{
 "cells": [
  {
   "cell_type": "markdown",
   "metadata": {},
   "source": [
    "# Capstone Project"
   ]
  },
  {
   "cell_type": "markdown",
   "metadata": {},
   "source": [
    "\"There are estimated to be nearly half a million species of plant in the world. Classification of species has been historically problematic and often results in duplicate identifications. Automating plant recognition might have many applications, including:\n",
    "\n",
    "Species population tracking and preservation\n",
    "Plant-based medicinal research\n",
    "Crop and food supply management\n",
    "Leaf Classification\n",
    "\n",
    "The objective of this playground competition is to use binary leaf images and extracted features, including shape, margin & texture, to accurately identify 99 species of plants. Leaves, due to their volume, prevalence, and unique characteristics, are an effective means of differentiating plant species. They also provide a fun introduction to applying techniques that involve image-based features.\n",
    "\n",
    "As a first step, try building a classifier that uses the provided pre-extracted features. Next, try creating a set of your own features. Finally, examine the errors you're making and see what you can do to improve.\n",
    "\n",
    "Acknowledgments:\n",
    "\n",
    "Kaggle is hosting this competition for the data science community to use for fun and education. This dataset originates from leaf images collected by  \n",
    "James Cope, Thibaut Beghin, Paolo Remagnino, & Sarah Barman of the Royal Botanic Gardens, Kew, UK.\n",
    "\n",
    "Charles Mallah, James Cope, James Orwell. Plant Leaf Classification Using Probabilistic Integration of Shape, Texture and Margin Features. Signal Processing, Pattern Recognition and Applications, in press. 2013.\n",
    "\n",
    "We thank the UCI machine learning repository for hosting the dataset.\""
   ]
  },
  {
   "cell_type": "code",
   "execution_count": 1,
   "metadata": {
    "collapsed": false
   },
   "outputs": [],
   "source": [
    "import numpy as np\n",
    "import pandas as pd\n",
    "\n",
    "\n",
    "\n",
    "from sklearn.svm import SVC \n",
    "from sklearn.svm import LinearSVC\n",
    "import matplotlib.pyplot as plt\n",
    "import matplotlib.image as mpimg\n",
    "from scipy.misc import imread\n",
    "\n",
    "from sklearn.model_selection import train_test_split\n",
    "from sklearn import preprocessing\n",
    "\n",
    "\n",
    "%matplotlib inline"
   ]
  },
  {
   "cell_type": "markdown",
   "metadata": {},
   "source": [
    "### Import Data and Data Exploration"
   ]
  },
  {
   "cell_type": "code",
   "execution_count": 12,
   "metadata": {
    "collapsed": false
   },
   "outputs": [
    {
     "name": "stdout",
     "output_type": "stream",
     "text": [
      "192 191\n"
     ]
    }
   ],
   "source": [
    "\n",
    "from sklearn.preprocessing import LabelEncoder\n",
    "\n",
    "\n",
    "train = pd.read_csv('train.csv')\n",
    "test = pd.read_csv('test.csv')\n",
    "\n",
    "#print test, train\n",
    "\n",
    "le = LabelEncoder().fit(train.species) \n",
    "\n",
    "#save values for submission\n",
    "classes = list(le.classes_)\n",
    "test_ids = test.id \n",
    "\n",
    "test = test.drop(['id'], axis=1)\n",
    "train = train.drop([ 'id'], axis=1)\n",
    "#print train\n",
    "#print test\n",
    "# TODO: Calculate number of features\n",
    "n_features = len(list(train.columns[1:])\n",
    ")\n",
    "n_featurest = len(list(test.columns[1:])\n",
    ")\n",
    "\n",
    "print n_features, n_featurest\n",
    "\n",
    "\n"
   ]
  },
  {
   "cell_type": "markdown",
   "metadata": {},
   "source": [
    "### Data Visualization"
   ]
  },
  {
   "cell_type": "code",
   "execution_count": 4,
   "metadata": {
    "collapsed": false
   },
   "outputs": [
    {
     "name": "stdout",
     "output_type": "stream",
     "text": [
      "('This image is:', <type 'numpy.ndarray'>, 'with dimesions:', (467, 526))\n"
     ]
    },
    {
     "data": {
      "text/plain": [
       "<matplotlib.image.AxesImage at 0x7fb6cffb9550>"
      ]
     },
     "execution_count": 4,
     "metadata": {},
     "output_type": "execute_result"
    },
    {
     "data": {
      "image/png": "[encoded data removed]",
      "text/plain": [
       "<matplotlib.figure.Figure at 0x7fb6d0092410>"
      ]
     },
     "metadata": {},
     "output_type": "display_data"
    }
   ],
   "source": [
    "#reading in an image\n",
    "image = mpimg.imread('images/1.jpg')\n",
    "#printing out some stats and plotting\n",
    "print('This image is:', type(image), 'with dimesions:', image.shape)\n",
    "plt.imshow(image)  #call as plt.imshow(gray, cmap='gray') to show a grayscaled image"
   ]
  },
  {
   "cell_type": "markdown",
   "metadata": {},
   "source": [
    "### File descriptions\n",
    "\n",
    "train.csv - the training set\n",
    "\n",
    "test.csv - the test set\n",
    "\n",
    "sample_submission.csv - a sample submission file in the correct format\n",
    "\n",
    "images - the image files (each image is named with its corresponding id)\n",
    "\n",
    "\n",
    "### Data fields\n",
    "\n",
    "\n",
    "id - an anonymous id unique to an image\n",
    "\n",
    "margin_1, margin_2, margin_3, ..., margin_64 - each of the 64 attribute vectors for the margin feature\n",
    "\n",
    "shape_1, shape_2, shape_3, ..., shape_64 - each of the 64 attribute vectors for the shape feature\n",
    "\n",
    "texture_1, texture_2, texture_3, ..., texture_64 - each of the 64 attribute vectors for the texture feature\n"
   ]
  },
  {
   "cell_type": "markdown",
   "metadata": {},
   "source": [
    "### Preprocessing - Identifying features & target columns"
   ]
  },
  {
   "cell_type": "code",
   "execution_count": 5,
   "metadata": {
    "collapsed": false
   },
   "outputs": [
    {
     "name": "stdout",
     "output_type": "stream",
     "text": [
      "990 990\n",
      "\n",
      "Feature values:\n",
      "    margin1   margin2   margin3   margin4   margin5   margin6   margin7  \\\n",
      "0  0.007812  0.023438  0.023438  0.003906  0.011719  0.009766  0.027344   \n",
      "1  0.005859  0.000000  0.031250  0.015625  0.025391  0.001953  0.019531   \n",
      "2  0.005859  0.009766  0.019531  0.007812  0.003906  0.005859  0.068359   \n",
      "3  0.000000  0.003906  0.023438  0.005859  0.021484  0.019531  0.023438   \n",
      "4  0.005859  0.003906  0.048828  0.009766  0.013672  0.015625  0.005859   \n",
      "\n",
      "   margin8   margin9  margin10    ...      texture55  texture56  texture57  \\\n",
      "0      0.0  0.001953  0.033203    ...       0.007812   0.000000   0.002930   \n",
      "1      0.0  0.000000  0.007812    ...       0.000977   0.000000   0.000000   \n",
      "2      0.0  0.000000  0.044922    ...       0.154300   0.000000   0.005859   \n",
      "3      0.0  0.013672  0.017578    ...       0.000000   0.000977   0.000000   \n",
      "4      0.0  0.000000  0.005859    ...       0.096680   0.000000   0.021484   \n",
      "\n",
      "   texture58  texture59  texture60  texture61  texture62  texture63  texture64  \n",
      "0   0.002930   0.035156        0.0        0.0   0.004883   0.000000   0.025391  \n",
      "1   0.000977   0.023438        0.0        0.0   0.000977   0.039062   0.022461  \n",
      "2   0.000977   0.007812        0.0        0.0   0.000000   0.020508   0.002930  \n",
      "3   0.000000   0.020508        0.0        0.0   0.017578   0.000000   0.047852  \n",
      "4   0.000000   0.000000        0.0        0.0   0.000000   0.000000   0.031250  \n",
      "\n",
      "[5 rows x 192 columns]\n"
     ]
    }
   ],
   "source": [
    "\n",
    "# Extract feature columns\n",
    "feature_cols = list(train.columns[1:])\n",
    "\n",
    "# Extract target column \n",
    "target_col = train.columns[0] \n",
    "\n",
    "# Show the list of columns\n",
    "#print \"Feature columns:\\n{}\".format(feature_cols)\n",
    "#print \"\\nTarget column: {}\".format(target_col)\n",
    "\n",
    "# Separate the data into feature data and target data (X_all and y_all, respectively)\n",
    "X_all = train[feature_cols]\n",
    "y_all = train[target_col] #Must use label encoder to get LogLoss\n",
    "#print X_all    #, y_all\n",
    "\n",
    "#le = LabelEncoder().fit(y_all)\n",
    "#y_all = le.transform(y_all)\n",
    "print len(y_all), len(X_all)\n",
    "# Show the feature information by printing the first five rows\n",
    "print \"\\nFeature values:\"\n",
    "print X_all.head()"
   ]
  },
  {
   "cell_type": "code",
   "execution_count": 6,
   "metadata": {
    "collapsed": false
   },
   "outputs": [
    {
     "name": "stdout",
     "output_type": "stream",
     "text": [
      "198\n"
     ]
    },
    {
     "name": "stderr",
     "output_type": "stream",
     "text": [
      "/home/ale/anaconda2/lib/python2.7/site-packages/sklearn/cross_validation.py:44: DeprecationWarning: This module was deprecated in version 0.18 in favor of the model_selection module into which all the refactored classes and functions are moved. Also note that the interface of the new CV iterators are different from that of this module. This module will be removed in 0.20.\n",
      "  \"This module will be removed in 0.20.\", DeprecationWarning)\n"
     ]
    }
   ],
   "source": [
    "from sklearn.cross_validation import StratifiedShuffleSplit\n",
    "\n",
    "X_train, X_test, y_train, y_test = train_test_split(X_all, y_all, test_size=0.2, random_state=1, stratify=y_all)\n",
    "#stratify ensures that relative class frequencies is approximately preserved in each train and validation fold.\n",
    "#test train split with stratify does not account for having all classes\n",
    "\n",
    "\n",
    "from sklearn import cross_validation\n",
    "\n",
    "\n",
    "    \n",
    "print len(y_test)"
   ]
  },
  {
   "cell_type": "code",
   "execution_count": 7,
   "metadata": {
    "collapsed": true
   },
   "outputs": [],
   "source": [
    "\n",
    "from sklearn.metrics import f1_score\n",
    "from time import time\n",
    "\n",
    "def train_classifier(clf, X_train, y_train):\n",
    "    ''' Fits a classifier to the training data. '''\n",
    "    \n",
    "    # Start the clock, train the classifier, then stop the clock\n",
    "    start = time()\n",
    "    clf.fit(X_train, y_train)\n",
    "    end = time()\n",
    "    \n",
    "    # Print the results\n",
    "    print \"Trained model in {:.4f} seconds\".format(end - start)\n",
    "\n",
    "    \n",
    "def predict_labels(clf, features, target):\n",
    "    ''' Makes predictions using a fit classifier based on F1 score. '''\n",
    "    \n",
    "    # Start the clock, make predictions, then stop the clock\n",
    "    start = time()\n",
    "    y_pred = clf.predict(features)\n",
    "    end = time()\n",
    "    \n",
    "    # Print and return results\n",
    "    print \"Made predictions in {:.4f} seconds.\".format(end - start)\n",
    "    return f1_score(target.values, y_pred, average='weighted')\n",
    "\n",
    "\n",
    "def train_predict(clf, X_train, y_train, X_test, y_test):\n",
    "    ''' Train and predict using a classifer based on F1 score. '''\n",
    "    \n",
    "    # Indicate the classifier and the training set size\n",
    "    print \"Training a {} using a training set size of {}. . .\".format(clf.__class__.__name__, len(X_train))\n",
    "    \n",
    "    # Train the classifier\n",
    "    train_classifier(clf, X_train, y_train)\n",
    "    \n",
    "    # Print the results of prediction for both training and testing\n",
    "    print \"F1 score for training set: {:.4f}.\".format(predict_labels(clf, X_train, y_train))\n",
    "    print \"F1 score for test set: {:.4f}.\".format(predict_labels(clf, X_test, y_test))"
   ]
  },
  {
   "cell_type": "code",
   "execution_count": 8,
   "metadata": {
    "collapsed": false
   },
   "outputs": [
    {
     "name": "stdout",
     "output_type": "stream",
     "text": [
      "Training a SVC using a training set size of 792. . .\n",
      "Trained model in 2.1446 seconds\n",
      "Made predictions in 0.2993 seconds.\n",
      "F1 score for training set: 0.8321.\n",
      "Made predictions in 0.0722 seconds.\n",
      "F1 score for test set: 0.8051.\n",
      "0.823232323232\n"
     ]
    },
    {
     "name": "stderr",
     "output_type": "stream",
     "text": [
      "/home/ale/anaconda2/lib/python2.7/site-packages/sklearn/metrics/classification.py:1113: UndefinedMetricWarning: F-score is ill-defined and being set to 0.0 in labels with no predicted samples.\n",
      "  'precision', 'predicted', average, warn_for)\n"
     ]
    }
   ],
   "source": [
    "from sklearn.metrics import accuracy_score\n",
    "from sklearn.metrics import log_loss\n",
    "\n",
    "\n",
    "clf=SVC(probability=True)\n",
    "clf.fit(X_train, y_train)\n",
    "\n",
    "\n",
    "train_predict(clf, X_train, y_train, X_test, y_test)\n",
    "\n",
    "y_pred = clf.predict(X_test)\n",
    "\n",
    "#print y_pred\n",
    "\n",
    "#for element in pred:\n",
    "#    if element not in y_test:\n",
    "#        print element\n",
    "#print pred, y_test\n",
    "accuracy = accuracy_score(y_test, y_pred)\n",
    "\n",
    "print accuracy\n",
    "\n",
    "#pred_logloss = clf.predict_proba(X_test)\n",
    "#logloss = log_loss(y_test, y_pred)\n",
    "\n",
    "\n",
    "#print logloss\n",
    "\n",
    "\n",
    "\n",
    "\n",
    "\n"
   ]
  },
  {
   "cell_type": "code",
   "execution_count": 10,
   "metadata": {
    "collapsed": false
   },
   "outputs": [],
   "source": [
    "pred = clf.predict_proba(test)\n",
    "\n",
    "# Submission\n",
    "df = pd.DataFrame(pred, columns=classes)\n",
    "df.insert(0, 'id', test_ids )\n",
    "df.reset_index()\n",
    "df.to_csv('svm_submission.csv', index = False)"
   ]
  },
  {
   "cell_type": "code",
   "execution_count": null,
   "metadata": {
    "collapsed": true
   },
   "outputs": [],
   "source": []
  },
  {
   "cell_type": "code",
   "execution_count": 14,
   "metadata": {
    "collapsed": false
   },
   "outputs": [],
   "source": [
    "from sklearn.ensemble import RandomForestClassifier as RFC\n"
   ]
  },
  {
   "cell_type": "code",
   "execution_count": 16,
   "metadata": {
    "collapsed": false
   },
   "outputs": [
    {
     "name": "stdout",
     "output_type": "stream",
     "text": [
      "Training a RandomForestClassifier using a training set size of 792. . .\n",
      "Trained model in 1.9613 seconds\n",
      "Made predictions in 0.1747 seconds.\n",
      "F1 score for training set: 1.0000.\n",
      "Made predictions in 0.1057 seconds.\n",
      "F1 score for test set: 0.9892.\n",
      "0.989898989899\n"
     ]
    }
   ],
   "source": [
    "clf=RFC(n_estimators = 100)\n",
    "clf.fit(X_train, y_train)\n",
    "\n",
    "\n",
    "train_predict(clf, X_train, y_train, X_test, y_test)\n",
    "\n",
    "y_pred = clf.predict(X_test)\n",
    "\n",
    "accuracy = accuracy_score(y_test, y_pred)\n",
    "\n",
    "print accuracy"
   ]
  },
  {
   "cell_type": "code",
   "execution_count": 17,
   "metadata": {
    "collapsed": true
   },
   "outputs": [],
   "source": [
    "pred = clf.predict_proba(test)\n",
    "\n",
    "# Submission\n",
    "df = pd.DataFrame(pred, columns=classes)\n",
    "df.insert(0, 'id', test_ids )\n",
    "df.reset_index()\n",
    "df.to_csv('randomforest_submission.csv', index = False)"
   ]
  },
  {
   "cell_type": "code",
   "execution_count": null,
   "metadata": {
    "collapsed": true
   },
   "outputs": [],
   "source": []
  },
  {
   "cell_type": "markdown",
   "metadata": {},
   "source": [
    "# Deep Learning"
   ]
  },
  {
   "cell_type": "code",
   "execution_count": null,
   "metadata": {
    "collapsed": true
   },
   "outputs": [],
   "source": []
  },
  {
   "cell_type": "code",
   "execution_count": 18,
   "metadata": {
    "collapsed": false
   },
   "outputs": [
    {
     "ename": "ImportError",
     "evalue": "No module named keras.models",
     "output_type": "error",
     "traceback": [
      "\u001b[0;31m---------------------------------------------------------------------------\u001b[0m",
      "\u001b[0;31mImportError\u001b[0m                               Traceback (most recent call last)",
      "\u001b[0;32m<ipython-input-18-10d3e896f3ff>\u001b[0m in \u001b[0;36m<module>\u001b[0;34m()\u001b[0m\n\u001b[0;32m----> 1\u001b[0;31m \u001b[0;32mfrom\u001b[0m \u001b[0mkeras\u001b[0m\u001b[0;34m.\u001b[0m\u001b[0mmodels\u001b[0m \u001b[0;32mimport\u001b[0m \u001b[0mModel\u001b[0m\u001b[0;34m\u001b[0m\u001b[0m\n\u001b[0m",
      "\u001b[0;31mImportError\u001b[0m: No module named keras.models"
     ]
    }
   ],
   "source": [
    "from keras.models import Model"
   ]
  },
  {
   "cell_type": "code",
   "execution_count": null,
   "metadata": {
    "collapsed": true
   },
   "outputs": [],
   "source": []
  }
 ],
 "metadata": {
  "anaconda-cloud": {},
  "kernelspec": {
   "display_name": "Python [default]",
   "language": "python",
   "name": "python2"
  },
  "language_info": {
   "codemirror_mode": {
    "name": "ipython",
    "version": 2
   },
   "file_extension": ".py",
   "mimetype": "text/x-python",
   "name": "python",
   "nbconvert_exporter": "python",
   "pygments_lexer": "ipython2",
   "version": "2.7.13"
  }
 },
 "nbformat": 4,
 "nbformat_minor": 2
}
